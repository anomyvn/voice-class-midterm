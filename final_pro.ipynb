{
 "cells": [
  {
   "cell_type": "code",
   "execution_count": 2,
   "metadata": {},
   "outputs": [
    {
     "name": "stderr",
     "output_type": "stream",
     "text": [
      "c:\\users\\84965\\appdata\\local\\continuum\\anaconda3\\envs\\voiceclass\\lib\\site-packages\\librosa\\util\\decorators.py:9: NumbaDeprecationWarning: \u001b[1mAn import was requested from a module that has moved location.\n",
      "Import requested from: 'numba.decorators', please update to use 'numba.core.decorators' or pin to Numba version 0.48.0. This alias will not be present in Numba version 0.50.0.\u001b[0m\n",
      "  from numba.decorators import jit as optional_jit\n",
      "c:\\users\\84965\\appdata\\local\\continuum\\anaconda3\\envs\\voiceclass\\lib\\site-packages\\librosa\\util\\decorators.py:9: NumbaDeprecationWarning: \u001b[1mAn import was requested from a module that has moved location.\n",
      "Import of 'jit' requested from: 'numba.decorators', please update to use 'numba.core.decorators' or pin to Numba version 0.48.0. This alias will not be present in Numba version 0.50.0.\u001b[0m\n",
      "  from numba.decorators import jit as optional_jit\n"
     ]
    }
   ],
   "source": [
    "import librosa\n",
    "import numpy as np\n",
    "import os\n",
    "import math\n",
    "from sklearn.cluster import KMeans\n",
    "import hmmlearn.hmm\n",
    "from time import time\n",
    "from sklearn.model_selection import train_test_split\n",
    "from collections import defaultdict\n",
    "from sklearn.model_selection import LeaveOneOut\n",
    "from tqdm import tqdm\n",
    "from sklearn.model_selection import KFold\n",
    "from sklearn.metrics import accuracy_score\n",
    "import random\n",
    "from sklearn.metrics import log_loss\n",
    "from scipy.special import softmax\n",
    "from sklearn.metrics import confusion_matrix\n",
    "np.set_printoptions(precision=4)"
   ]
  },
  {
   "cell_type": "markdown",
   "metadata": {},
   "source": [
    "# Function"
   ]
  },
  {
   "cell_type": "code",
   "execution_count": 5,
   "metadata": {},
   "outputs": [],
   "source": [
    "def get_mfcc(file_path):\n",
    "    y, sr = librosa.load(file_path) # read .wav file\n",
    "    hop_length = math.floor(sr*0.010) # 10ms hop\n",
    "    win_length = math.floor(sr*0.025) # 25ms frame\n",
    "    # mfcc is 12 x T matrix\n",
    "    mfcc = librosa.feature.mfcc(\n",
    "        y, sr, n_mfcc=12, n_fft=1024,\n",
    "        hop_length=hop_length, win_length=win_length)\n",
    "    # substract mean from mfcc --> normalize mfcc\n",
    "    mfcc = mfcc - np.mean(mfcc, axis=1).reshape((-1,1)) \n",
    "    # delta feature 1st order and 2nd order\n",
    "    delta1 = librosa.feature.delta(mfcc, order=1)\n",
    "    delta2 = librosa.feature.delta(mfcc, order=2)\n",
    "    # X is 36 x T\n",
    "    X = np.concatenate([mfcc, delta1, delta2], axis=0) # O^r\n",
    "    # return T x 36 (transpose of X)\n",
    "    return X.T # hmmlearn use T x N matrix\n",
    "def get_class_data(data_dir):\n",
    "    files = os.listdir(data_dir)\n",
    "    mfcc = [get_mfcc(os.path.join(data_dir,f)) for f in files if f.endswith(\".wav\")]\n",
    "    return mfcc\n",
    "def clustering(X, n_clusters=10):\n",
    "    kmeans = KMeans(n_clusters=n_clusters, n_init=50, random_state=0, verbose=0)\n",
    "    kmeans.fit(X)\n",
    "    print(\"centers\", kmeans.cluster_centers_.shape)\n",
    "    return kmeans  "
   ]
  },
  {
   "cell_type": "code",
   "execution_count": 3,
   "metadata": {},
   "outputs": [],
   "source": [
    "def train(data_train,state_num):\n",
    "    models = {}\n",
    "    dataset = data_train.copy()\n",
    "    for cname in dataset.keys():\n",
    "        n = state_num[cname]\n",
    "        startprob = np.zeros(n)\n",
    "        startprob[0] = 1\n",
    "        transmat=np.diag(np.full(n,1))\n",
    "        \n",
    "        \n",
    "        hmm = hmmlearn.hmm.MultinomialHMM(\n",
    "            n_components=n, random_state=0, n_iter=1000, verbose=False,\n",
    "            startprob_prior=startprob,\n",
    "            transmat_prior=transmat,\n",
    "        )\n",
    "        \n",
    "        X = np.concatenate(dataset[cname])\n",
    "        lengths = list([len(x) for x in dataset[cname]])\n",
    "        hmm.fit(X, lengths=lengths)\n",
    "        models[cname] = hmm    \n",
    "    return models\n",
    "\n",
    "def get_result(data_test,models):\n",
    "    result = {}\n",
    "    dataset = data_test.copy()\n",
    "    for true_cname in data_test.keys():\n",
    "        true = 0 \n",
    "        for O in dataset[true_cname]:\n",
    "    \n",
    "            score = {cname : model.score(O, [len(O)]) for cname, model in models.items()}\n",
    "            \n",
    "            label = max(score.keys(),key=lambda x:score[x])\n",
    "            if label == true_cname:\n",
    "                true += 1\n",
    "        result[true_cname] = true/len(dataset[true_cname])  \n",
    "        print(true,len(dataset[true_cname]))\n",
    "    return result\n",
    "\n",
    "def predict(X_test,models):\n",
    "    y_predict = []\n",
    "    for x in X_test:\n",
    "        score = {}\n",
    "        for cname in models.keys():\n",
    "            score[cname] = models[cname].score(x, [len(x)])\n",
    "        label = max(score.keys(),key=lambda x:score[x])\n",
    "        y_predict.append(label)\n",
    "    return y_predict\n",
    "\n",
    "def predict_pro(X_test,models):\n",
    "    y_pro = []\n",
    "    \n",
    "    for x in X_test:\n",
    "        score = {}\n",
    "        for cname in models.keys():\n",
    "            score[cname] = models[cname].score(x, [len(x)])\n",
    "        pro = softmax([score[s] for s in stt])\n",
    "        y_pro.append(pro)\n",
    "    return y_pro\n",
    "\n",
    "def pro_to_label(y):\n",
    "    return stt[max(range(len(y)),key=lambda x:y[x])]\n",
    "\n",
    "def one_hot_vec(y):\n",
    "    return [1 if s==y else 0 for s in stt ]\n",
    "stt = [\"tôi\",\"không\",\"một\",\"người\",\"cáchly\"]\n",
    "\n",
    "def search(search_space):\n",
    "    result = []\n",
    "    for a in search_space['tôi']:\n",
    "        for b in search_space['không']:\n",
    "            for c in search_space['một']:\n",
    "                for d in search_space[\"người\"]:\n",
    "                    for e in search_space[\"cáchly\"]:\n",
    "                        result.append([a,b,c,d,e])\n",
    "    return result\n",
    "\n",
    "def get_state_num_candidate(X,y,key,maxn):\n",
    "    data_train = defaultdict(list)\n",
    "    X_ = []\n",
    "    for t in zip(X,y):\n",
    "        \n",
    "        if t[1] == key:\n",
    "            X_.append(t[0])\n",
    "    X = np.array(X_)\n",
    "    kf = KFold(n_splits=20)\n",
    "    score_list ={}\n",
    "    flag = True\n",
    "    for n in range(1,maxn):\n",
    "        score = []\n",
    "        for train_index, test_index in tqdm(kf.split(X)):\n",
    "            startprob = np.zeros(n)\n",
    "            startprob[0] = 1\n",
    "            transmat=np.diag(np.full(n,1))\n",
    "            hmm = hmmlearn.hmm.MultinomialHMM(\n",
    "                n_components=n, random_state=0, n_iter=1000, verbose=False,\n",
    "                startprob_prior=startprob,\n",
    "                transmat_prior=transmat,\n",
    "            )\n",
    "            \n",
    "            X_train, X_test = X[train_index], X[test_index]\n",
    "            \n",
    "            lengths = list([len(x) for x in X_train])\n",
    "            X_train = np.concatenate(X_train)\n",
    "            \n",
    "            hmm.fit(X_train, lengths=lengths)\n",
    "            model = hmm\n",
    "            if np.unique((np.isnan(m.transmat_))).shape[0]>2:\n",
    "                flag = False\n",
    "            \n",
    "            if np.isnan(np.sum(m.startprob_)):\n",
    "                flag = False\n",
    "            \n",
    "            if not flag:\n",
    "                score = [-999999999999]\n",
    "                print(n)\n",
    "                break\n",
    "            else:\n",
    "                for x in X_test:\n",
    "                    score.append(model.score(x, [len(x)]))\n",
    "            \n",
    "        score_list[n] = np.mean(score)\n",
    "        if not flag:\n",
    "            break\n",
    "    return score_list"
   ]
  },
  {
   "cell_type": "markdown",
   "metadata": {},
   "source": [
    "# Hyperparam optimize"
   ]
  },
  {
   "cell_type": "code",
   "execution_count": null,
   "metadata": {},
   "outputs": [],
   "source": [
    "get_state_num_candidate(X,y,key,maxn)\n"
   ]
  },
  {
   "cell_type": "code",
   "execution_count": null,
   "metadata": {},
   "outputs": [],
   "source": [
    "num = 10\n",
    "space = []\n",
    "acc = []\n",
    "logloss = []\n",
    "stt = [\"tôi\",\"không\",\"một\",\"người\",\"cáchly\"]\n",
    "search_space = {\n",
    "    \"tôi\":[8,9,10],\n",
    "    \"không\":[10,11,12],\n",
    "    \"một\":[9,10,11],\n",
    "    \"người\":[10,11,12],\n",
    "    \"cáchly\":[20,21,22]\n",
    "}\n",
    "space = search(search_space)"
   ]
  },
  {
   "cell_type": "code",
   "execution_count": null,
   "metadata": {},
   "outputs": [],
   "source": [
    "for s in (search(search_space)[num:]):\n",
    "    print(num)\n",
    "    state_num = {\"tôi\":s[0],\n",
    "                \"không\":s[1],\n",
    "                \"một\":s[2],\n",
    "                 \"người\":s[3],\n",
    "                \"cáchly\":s[4]\n",
    "                }\n",
    "    start = time()\n",
    "    final_result = defaultdict(int)\n",
    "    kf = KFold(n_splits=10)\n",
    "\n",
    "    y_predict = []\n",
    "    y_true = []\n",
    "    y_predict_pro = []\n",
    "    y_true_pro = []\n",
    "    \n",
    "    for train_index, test_index in (kf.split(X)):\n",
    "        X_train, X_test = X[train_index], X[test_index]\n",
    "        y_train, y_test = y[train_index], y[test_index]\n",
    "\n",
    "        data_train = defaultdict(list)\n",
    "        for t in zip(X_train,y_train):\n",
    "            data_train[t[1]].append(t[0])\n",
    "        data_test = defaultdict(list)\n",
    "        for t in zip(X_test,y_test):\n",
    "            data_test[t[1]].append(t[0])\n",
    "\n",
    "        models = train(data_train,state_num)\n",
    "\n",
    "    #     result = predict(data_test,models)\n",
    "    #     print(result)\n",
    "        y_predict_pro += predict_pro(X_test,models)\n",
    "        y_true_pro += [one_hot_vec(y) for y in y_test]\n",
    "        \n",
    "        y_predict += predict(X_test,models)\n",
    "        y_true += list(y_test)\n",
    "    \n",
    "    end = time()\n",
    "    space.append(state_num.copy())\n",
    "    \n",
    "    logloss.append(log_loss(y_true_pro, y_predict_pro))\n",
    "    print(log_loss(y_true_pro, y_predict_pro))\n",
    "    print(accuracy_score(y_true, y_predict))\n",
    "    print(f\"Running time:{end-start}\")\n",
    "    print('---------------')\n",
    "    acc.append(accuracy_score(y_true, y_predict))\n",
    "    num += 1"
   ]
  },
  {
   "cell_type": "code",
   "execution_count": 36,
   "metadata": {},
   "outputs": [],
   "source": [
    "def create_emsemble(models_state,data_train):\n",
    "    model_emsemble = []\n",
    "    for s in models_state:\n",
    "        state_num = {\"tôi\":s[0],\n",
    "            \"không\":s[1],\n",
    "            \"một\":s[2],\n",
    "            \"người\":s[3],\n",
    "            \"cáchly\":s[4]\n",
    "                }\n",
    "        \n",
    "        model = train(data_train,state_num)\n",
    "        model_emsemble.append(model)\n",
    "    return model_emsemble\n",
    "\n",
    "def emsemble_predict(model_ensemble,X_test):\n",
    "    result = {}\n",
    "    count = 0\n",
    "    for m in model_ensemble:\n",
    "        count += 1\n",
    "        result[f'model{count}'] = {'y_predict':predict(X_test,m),\n",
    "                                  'y_predict_pro':predict_pro(X_test,m)}\n",
    "    \n",
    "    return result \n",
    "    \n",
    "    \n",
    "        "
   ]
  },
  {
   "cell_type": "markdown",
   "metadata": {},
   "source": [
    "# Load data"
   ]
  },
  {
   "cell_type": "code",
   "execution_count": 66,
   "metadata": {},
   "outputs": [
    {
     "name": "stdout",
     "output_type": "stream",
     "text": [
      "Load tôi dataset\n",
      "Load không dataset\n",
      "Load một dataset\n",
      "Load cáchly dataset\n",
      "Load người dataset\n"
     ]
    }
   ],
   "source": [
    "class_names = [\"tôi\",\"không\",\"một\",\"cáchly\",\"người\"]\n",
    "dataset = {}\n",
    "dataset_train = {}\n",
    "dataset_test = {}\n",
    "for cname in class_names:\n",
    "    print(f\"Load {cname} dataset\")\n",
    "    dataset[cname] = get_class_data(os.path.join(\"data_\", cname))\n",
    "    dataset_train[cname],dataset_test[cname] = train_test_split(dataset[cname], test_size=0.2, random_state=42)\n",
    "all_vectors = np.concatenate([np.concatenate(v, axis=0) for k, v in dataset_train.items()], axis=0)"
   ]
  },
  {
   "cell_type": "markdown",
   "metadata": {},
   "source": [
    "# Pipeline"
   ]
  },
  {
   "cell_type": "code",
   "execution_count": 29,
   "metadata": {},
   "outputs": [],
   "source": [
    "def create_pipeline(k,all_vecter,dataset_train,dataset_test,model_state):\n",
    "    # run kmean\n",
    "    kmeans = clustering(all_vectors,k)\n",
    "    #split train test and kmean\n",
    "    X_train = []\n",
    "    y_train = []\n",
    "    X_test = []\n",
    "    y_test = []\n",
    "    for cname in class_names:\n",
    "        dataset_train[cname] = list([kmeans.predict(v).reshape(-1,1) for v in dataset_train[cname]])\n",
    "        X_train += [d for d in dataset_train[cname]]\n",
    "        y_train += [cname for d in dataset_train[cname]]\n",
    "\n",
    "    for cname in class_names:\n",
    "        dataset_test[cname] = list([kmeans.predict(v).reshape(-1,1) for v in dataset_test[cname]])\n",
    "        X_test += [d for d in dataset_test[cname]]\n",
    "        y_test += [cname for d in dataset_test[cname]]\n",
    "\n",
    "    # X_train, X_test, y_train, y_test = train_test_split(X, y, test_size=0.2, random_state=42)\n",
    "\n",
    "    data_train = defaultdict(list)\n",
    "    for t in zip(X_train,y_train):\n",
    "        data_train[t[1]].append(t[0])\n",
    "    data_test = defaultdict(list)\n",
    "    for t in zip(X_test,y_test):\n",
    "        data_test[t[1]].append(t[0])\n",
    "    \n",
    "    #create ensemble\n",
    "    model_ensemble = create_emsemble(models_state,data_train)\n",
    "    \n",
    "    #get predict\n",
    "    res = emsemble_predict(model_ensemble,X_test)\n",
    "                                     \n",
    "    voting_result = np.zeros(np.array(res['model1']['y_predict_pro']).shape)\n",
    "    for k in res.keys():\n",
    "        voting_result += np.array(res[k]['y_predict_pro'])\n",
    "    return voting_result\n",
    "    "
   ]
  },
  {
   "cell_type": "code",
   "execution_count": 67,
   "metadata": {},
   "outputs": [
    {
     "name": "stdout",
     "output_type": "stream",
     "text": [
      "centers (10, 36)\n"
     ]
    }
   ],
   "source": [
    "# k =10\n",
    "search_space = {\n",
    "    \"tôi\":[8,9,10],\n",
    "    \"không\":[10,11,12],\n",
    "    \"một\":[9,10,11],\n",
    "    \"người\":[10,11,12],\n",
    "    \"cáchly\":[20,21,22]\n",
    "}\n",
    "space = search(search_space)\n",
    "models_state = [space[21],space[24],space[30],space[33]]\n",
    "res = create_pipeline(10,all_vectors,dataset_train.copy(),dataset_test.copy(),models_state)"
   ]
  },
  {
   "cell_type": "code",
   "execution_count": 45,
   "metadata": {},
   "outputs": [
    {
     "data": {
      "text/plain": [
       "0.8024691358024691"
      ]
     },
     "execution_count": 45,
     "metadata": {},
     "output_type": "execute_result"
    }
   ],
   "source": [
    "y_test = []\n",
    "for cname in class_names:\n",
    "    y_test += [cname for d in dataset_test[cname]]\n",
    "y_predict = [pro_to_label(y_pro) for y_pro in res]\n",
    "accuracy_score(y_test,y_predict)"
   ]
  },
  {
   "cell_type": "code",
   "execution_count": 46,
   "metadata": {},
   "outputs": [],
   "source": [
    "res1 = res.copy()"
   ]
  },
  {
   "cell_type": "code",
   "execution_count": 47,
   "metadata": {},
   "outputs": [
    {
     "name": "stdout",
     "output_type": "stream",
     "text": [
      "centers (20, 36)\n"
     ]
    }
   ],
   "source": [
    "# k =20\n",
    "search_space = {\n",
    "    \"tôi\":[6,11,12],\n",
    "    \"không\":[11,9,14],\n",
    "    \"một\":[12,15,11],\n",
    "    \"người\":[5,8,12],\n",
    "    \"cáchly\":[16,17,18]\n",
    "}\n",
    "space = search(search_space)\n",
    "models_state = space[:7]\n",
    "res = create_pipeline(20,all_vectors,dataset_train.copy(),dataset_test.copy(),models_state)"
   ]
  },
  {
   "cell_type": "code",
   "execution_count": 48,
   "metadata": {},
   "outputs": [
    {
     "data": {
      "text/plain": [
       "0.8580246913580247"
      ]
     },
     "execution_count": 48,
     "metadata": {},
     "output_type": "execute_result"
    }
   ],
   "source": [
    "y_test = []\n",
    "for cname in class_names:\n",
    "    y_test += [cname for d in dataset_test[cname]]\n",
    "y_predict = [pro_to_label(y_pro) for y_pro in res]\n",
    "accuracy_score(y_test,y_predict)"
   ]
  },
  {
   "cell_type": "code",
   "execution_count": null,
   "metadata": {},
   "outputs": [],
   "source": []
  },
  {
   "cell_type": "code",
   "execution_count": 49,
   "metadata": {},
   "outputs": [],
   "source": [
    "res2 = res.copy()"
   ]
  },
  {
   "cell_type": "code",
   "execution_count": 54,
   "metadata": {},
   "outputs": [
    {
     "data": {
      "text/plain": [
       "0.8518518518518519"
      ]
     },
     "execution_count": 54,
     "metadata": {},
     "output_type": "execute_result"
    }
   ],
   "source": [
    "res = res1+res2\n",
    "y_test = []\n",
    "for cname in class_names:\n",
    "    y_test += [cname for d in dataset_test[cname]]\n",
    "y_predict = [pro_to_label(y_pro) for y_pro in res]\n",
    "accuracy_score(y_test,y_predict)"
   ]
  },
  {
   "cell_type": "markdown",
   "metadata": {},
   "source": [
    "# Interface"
   ]
  },
  {
   "cell_type": "code",
   "execution_count": null,
   "metadata": {},
   "outputs": [],
   "source": [
    "def create_pipeline_(k,all_vecter,dataset_train,model_state):\n",
    "    # run kmean\n",
    "    kmeans = clustering(all_vectors,k)\n",
    "    #split train test and kmean\n",
    "    \n",
    "    \n",
    "    \n",
    "    #create ensemble\n",
    "    model_ensemble = create_emsemble(models_state,data_train)\n",
    "    \n",
    "    #get predict\n",
    "    res = emsemble_predict(model_ensemble,X_test)\n",
    "                                     \n",
    "    voting_result = np.zeros(np.array(res['model1']['y_predict_pro']).shape)\n",
    "    for k in res.keys():\n",
    "        voting_result += np.array(res[k]['y_predict_pro'])\n",
    "    return voting_result\n",
    "    "
   ]
  },
  {
   "cell_type": "code",
   "execution_count": 125,
   "metadata": {},
   "outputs": [],
   "source": [
    "class Model:\n",
    "    def __init__(self,dataset_train,k,models_state):\n",
    "        self.dataset_train = dataset_train\n",
    "        self.k = k\n",
    "        self.kmeans = self.get_kmeans()\n",
    "        self.data_train = self.convert_data_train()\n",
    "        self.models_state = models_state\n",
    "        self.ensemble = create_emsemble(self.models_state,self.data_train)\n",
    "        \n",
    "    def get_kmeans(self):\n",
    "        all_vectors = np.concatenate([np.concatenate(v, axis=0) for k, v in self.dataset_train.items()], axis=0)\n",
    "        kmeans = clustering(all_vectors,self.k)\n",
    "        return kmeans\n",
    "    \n",
    "    def convert_data_train(self):\n",
    "        X_train = []\n",
    "        y_train = []\n",
    "\n",
    "        for cname in self.dataset_train.keys():\n",
    "            self.dataset_train[cname] = list([self.kmeans.predict(v).reshape(-1,1) for v in self.dataset_train[cname]])\n",
    "            X_train += [d for d in self.dataset_train[cname]]\n",
    "            y_train += [cname for d in self.dataset_train[cname]]\n",
    "\n",
    "        data_train = defaultdict(list)\n",
    "        for t in zip(X_train,y_train):\n",
    "            data_train[t[1]].append(t[0])\n",
    "        return data_train\n",
    "    def predict(self,X_test):\n",
    "        X_test = [self.kmeans.predict(v).reshape(-1,1) for v in X_test]\n",
    "        res = emsemble_predict(self.ensemble,X_test)\n",
    "        \n",
    "        voting_result = np.zeros(np.array(res['model1']['y_predict_pro']).shape)\n",
    "        for k in res.keys():\n",
    "            voting_result += np.array(res[k]['y_predict_pro'])\n",
    "        return res,voting_result"
   ]
  },
  {
   "cell_type": "code",
   "execution_count": 81,
   "metadata": {},
   "outputs": [],
   "source": [
    "import pickle\n"
   ]
  },
  {
   "cell_type": "code",
   "execution_count": 132,
   "metadata": {},
   "outputs": [],
   "source": [
    "file = open('model', 'wb+')\n",
    "pickle.dump(model30, file)\n",
    "file.close()"
   ]
  },
  {
   "cell_type": "code",
   "execution_count": 137,
   "metadata": {},
   "outputs": [
    {
     "name": "stdout",
     "output_type": "stream",
     "text": [
      "centers (30, 36)\n"
     ]
    }
   ],
   "source": [
    "# k =30\n",
    "search_space = {\n",
    "    \"tôi\":[8,9,11],\n",
    "    \"không\":[5,6,10],\n",
    "    \"một\":[9,10,12],\n",
    "    \"người\":[6,7,10],\n",
    "    \"cáchly\":[15,21]\n",
    "}\n",
    "space = search(search_space)\n",
    "models_state = [space[26],space[20],space[38],space[136],space[82]]\n",
    "model30 = Model(dataset_train.copy(),30,models_state)"
   ]
  },
  {
   "cell_type": "code",
   "execution_count": 140,
   "metadata": {},
   "outputs": [
    {
     "data": {
      "text/plain": [
       "[[8, 6, 10, 7, 15],\n",
       " [8, 6, 9, 7, 15],\n",
       " [8, 10, 9, 7, 15],\n",
       " [11, 6, 10, 10, 15],\n",
       " [9, 6, 10, 10, 15]]"
      ]
     },
     "execution_count": 140,
     "metadata": {},
     "output_type": "execute_result"
    }
   ],
   "source": [
    "[space[26],space[20],space[38],space[136],space[82]]"
   ]
  },
  {
   "cell_type": "code",
   "execution_count": 138,
   "metadata": {},
   "outputs": [
    {
     "name": "stdout",
     "output_type": "stream",
     "text": [
      "0.9135802469135802\n",
      "0.9012345679012346\n",
      "0.8950617283950617\n",
      "0.9135802469135802\n",
      "0.9012345679012346\n"
     ]
    },
    {
     "data": {
      "text/plain": [
       "0.9012345679012346"
      ]
     },
     "execution_count": 138,
     "metadata": {},
     "output_type": "execute_result"
    }
   ],
   "source": [
    "full_result,result= model30.predict(X_test)\n",
    "y_predict = [pro_to_label(y_pro) for y_pro in result]\n",
    "y_test = []\n",
    "for cname in class_names:\n",
    "    y_test += [cname for d in dataset_test[cname]]\n",
    "for k in full_result.keys():\n",
    "    r = full_result[k]['y_predict']\n",
    "    print(accuracy_score(y_test,r))\n",
    "accuracy_score(y_test,y_predict)"
   ]
  },
  {
   "cell_type": "code",
   "execution_count": 142,
   "metadata": {},
   "outputs": [
    {
     "data": {
      "image/png": "[encoded data removed]",
      "text/plain": [
       "<Figure size 720x504 with 2 Axes>"
      ]
     },
     "metadata": {
      "needs_background": "light"
     },
     "output_type": "display_data"
    }
   ],
   "source": [
    "import seaborn as sn\n",
    "import pandas as pd\n",
    "import matplotlib.pyplot as plt\n",
    "\n",
    "matrix = confusion_matrix(y_test, y_predict, labels=stt)\n",
    "\n",
    "df_cm = pd.DataFrame(matrix, stt, stt)\n",
    "plt.figure(figsize=(10,7))\n",
    "sn.set(font_scale=1.4) # for label size\n",
    "sn.heatmap(df_cm, annot=True, annot_kws={\"size\": 16}) # font size\n",
    "\n",
    "plt.show()"
   ]
  }
 ],
 "metadata": {
  "kernelspec": {
   "display_name": "Python 3",
   "language": "python",
   "name": "python3"
  },
  "language_info": {
   "codemirror_mode": {
    "name": "ipython",
    "version": 3
   },
   "file_extension": ".py",
   "mimetype": "text/x-python",
   "name": "python",
   "nbconvert_exporter": "python",
   "pygments_lexer": "ipython3",
   "version": "3.7.7"
  }
 },
 "nbformat": 4,
 "nbformat_minor": 4
}
